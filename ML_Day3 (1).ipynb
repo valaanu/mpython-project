{
  "nbformat": 4,
  "nbformat_minor": 0,
  "metadata": {
    "colab": {
      "provenance": []
    },
    "kernelspec": {
      "name": "python3",
      "display_name": "Python 3"
    },
    "language_info": {
      "name": "python"
    }
  },
  "cells": [
    {
      "cell_type": "code",
      "execution_count": 1,
      "metadata": {
        "colab": {
          "base_uri": "https://localhost:8080/"
        },
        "id": "ZkJ10K5o3YG6",
        "outputId": "04b3eedf-b920-4375-a24a-949269e0992f"
      },
      "outputs": [
        {
          "output_type": "stream",
          "name": "stdout",
          "text": [
            "day-3\n"
          ]
        }
      ],
      "source": [
        "print(\"day-3\")"
      ]
    },
    {
      "cell_type": "code",
      "source": [
        "t1 = (1,2,3,40,\"ntt\",1.1)\n",
        "print(t1)"
      ],
      "metadata": {
        "colab": {
          "base_uri": "https://localhost:8080/"
        },
        "id": "2ls4U9Zh-kQI",
        "outputId": "e1448d19-3b5c-42b9-8a5c-ff9d52d2a3b9"
      },
      "execution_count": 2,
      "outputs": [
        {
          "output_type": "stream",
          "name": "stdout",
          "text": [
            "(1, 2, 3, 40, 'ntt', 1.1)\n"
          ]
        }
      ]
    },
    {
      "cell_type": "code",
      "source": [
        "print(type(t1))"
      ],
      "metadata": {
        "colab": {
          "base_uri": "https://localhost:8080/"
        },
        "id": "a_INfCrx_Wc8",
        "outputId": "2c5b93ec-5af7-4cff-85ad-309379e7450a"
      },
      "execution_count": 3,
      "outputs": [
        {
          "output_type": "stream",
          "name": "stdout",
          "text": [
            "<class 'tuple'>\n"
          ]
        }
      ]
    },
    {
      "cell_type": "code",
      "source": [
        "#constructor tuple\n",
        "t2 = tuple((\"ntt\",1,2,3,4))\n",
        "print(t2)"
      ],
      "metadata": {
        "colab": {
          "base_uri": "https://localhost:8080/"
        },
        "id": "714VdrgM_kEz",
        "outputId": "748aabe1-5857-4e18-f389-52061958f38b"
      },
      "execution_count": 4,
      "outputs": [
        {
          "output_type": "stream",
          "name": "stdout",
          "text": [
            "('ntt', 1, 2, 3, 4)\n"
          ]
        }
      ]
    },
    {
      "cell_type": "code",
      "source": [
        "t3 = tuple([\"ntt\",1,2,3,4])\n",
        "print(t3)\n",
        "print(type(t3))"
      ],
      "metadata": {
        "colab": {
          "base_uri": "https://localhost:8080/"
        },
        "id": "OZbyzV9-_zhV",
        "outputId": "39ed3264-ef43-45ca-b244-0ec5c9e2382c"
      },
      "execution_count": 6,
      "outputs": [
        {
          "output_type": "stream",
          "name": "stdout",
          "text": [
            "('ntt', 1, 2, 3, 4)\n",
            "<class 'tuple'>\n"
          ]
        }
      ]
    },
    {
      "cell_type": "code",
      "source": [
        "t4 = tuple((15,))\n",
        "print(t4)\n",
        "print(type(t4))"
      ],
      "metadata": {
        "colab": {
          "base_uri": "https://localhost:8080/"
        },
        "id": "RpV3g9O2AyvF",
        "outputId": "4cf8fa80-f3de-4b2a-ccb6-ef5a2360236a"
      },
      "execution_count": 16,
      "outputs": [
        {
          "output_type": "stream",
          "name": "stdout",
          "text": [
            "(15,)\n",
            "<class 'tuple'>\n"
          ]
        }
      ]
    },
    {
      "cell_type": "code",
      "source": [
        "t5= tuple(\"ntt\")\n",
        "print(t5)\n",
        "print(type(t5))"
      ],
      "metadata": {
        "colab": {
          "base_uri": "https://localhost:8080/"
        },
        "id": "yTNsd45BCtmh",
        "outputId": "42e57d40-8c05-49be-d713-6142fe838bf0"
      },
      "execution_count": 19,
      "outputs": [
        {
          "output_type": "stream",
          "name": "stdout",
          "text": [
            "('ntt',)\n",
            "<class 'tuple'>\n"
          ]
        }
      ]
    },
    {
      "cell_type": "code",
      "source": [
        "t5= tuple((15))\n",
        "print(t5)\n",
        "print(type(t5))"
      ],
      "metadata": {
        "colab": {
          "base_uri": "https://localhost:8080/",
          "height": 176
        },
        "id": "t_mRk5WNDV-m",
        "outputId": "a5916081-d7b6-4f76-e662-388598f6a967"
      },
      "execution_count": 21,
      "outputs": [
        {
          "output_type": "error",
          "ename": "TypeError",
          "evalue": "'int' object is not iterable",
          "traceback": [
            "\u001b[0;31m---------------------------------------------------------------------------\u001b[0m",
            "\u001b[0;31mTypeError\u001b[0m                                 Traceback (most recent call last)",
            "\u001b[0;32m<ipython-input-21-9c4e9ca5385e>\u001b[0m in \u001b[0;36m<cell line: 1>\u001b[0;34m()\u001b[0m\n\u001b[0;32m----> 1\u001b[0;31m \u001b[0mt5\u001b[0m\u001b[0;34m=\u001b[0m \u001b[0mtuple\u001b[0m\u001b[0;34m(\u001b[0m\u001b[0;34m(\u001b[0m\u001b[0;36m15\u001b[0m\u001b[0;34m)\u001b[0m\u001b[0;34m)\u001b[0m\u001b[0;34m\u001b[0m\u001b[0;34m\u001b[0m\u001b[0m\n\u001b[0m\u001b[1;32m      2\u001b[0m \u001b[0mprint\u001b[0m\u001b[0;34m(\u001b[0m\u001b[0mt5\u001b[0m\u001b[0;34m)\u001b[0m\u001b[0;34m\u001b[0m\u001b[0;34m\u001b[0m\u001b[0m\n\u001b[1;32m      3\u001b[0m \u001b[0mprint\u001b[0m\u001b[0;34m(\u001b[0m\u001b[0mtype\u001b[0m\u001b[0;34m(\u001b[0m\u001b[0mt5\u001b[0m\u001b[0;34m)\u001b[0m\u001b[0;34m)\u001b[0m\u001b[0;34m\u001b[0m\u001b[0;34m\u001b[0m\u001b[0m\n",
            "\u001b[0;31mTypeError\u001b[0m: 'int' object is not iterable"
          ]
        }
      ]
    },
    {
      "cell_type": "code",
      "source": [
        "t6 = tuple((15,))\n",
        "print(t6)\n",
        "print(type(t6))"
      ],
      "metadata": {
        "colab": {
          "base_uri": "https://localhost:8080/"
        },
        "id": "OD1ZoEstEVKl",
        "outputId": "8d476252-0f5a-4547-dd59-8f3ef9f8d316"
      },
      "execution_count": 24,
      "outputs": [
        {
          "output_type": "stream",
          "name": "stdout",
          "text": [
            "(15,)\n",
            "<class 'tuple'>\n"
          ]
        }
      ]
    },
    {
      "cell_type": "code",
      "source": [
        "a= (15,)\n",
        "print(a)\n",
        "print(type(a))"
      ],
      "metadata": {
        "colab": {
          "base_uri": "https://localhost:8080/"
        },
        "id": "NUaLDysJE1e_",
        "outputId": "6522b8be-f336-4639-fe01-1126634bdd35"
      },
      "execution_count": 27,
      "outputs": [
        {
          "output_type": "stream",
          "name": "stdout",
          "text": [
            "(15,)\n",
            "<class 'tuple'>\n"
          ]
        }
      ]
    },
    {
      "cell_type": "code",
      "source": [
        "#accessing the tuple\n",
        "t7 = (22,33,44,55,66,77)\n",
        "print(t7[1])\n",
        "print(t7[-1])\n",
        "print(t7[2:10])\n",
        "\n",
        "print(t7[-4:-1:1])"
      ],
      "metadata": {
        "colab": {
          "base_uri": "https://localhost:8080/"
        },
        "id": "BgBzP9_MFfQi",
        "outputId": "ae1e4d4a-a967-494c-9806-9b87c209c7b5"
      },
      "execution_count": 33,
      "outputs": [
        {
          "output_type": "stream",
          "name": "stdout",
          "text": [
            "33\n",
            "77\n",
            "(44, 55, 66, 77)\n",
            "(44, 55, 66)\n"
          ]
        }
      ]
    },
    {
      "cell_type": "code",
      "source": [],
      "metadata": {
        "id": "Zpyx3WhhIAcs"
      },
      "execution_count": null,
      "outputs": []
    },
    {
      "cell_type": "code",
      "source": [
        "if 77 in t7:\n",
        "    print(\"yes\")\n",
        "else:\n",
        "    print(\"no\")"
      ],
      "metadata": {
        "colab": {
          "base_uri": "https://localhost:8080/"
        },
        "id": "Aaq6b-20GYV3",
        "outputId": "71085209-36c7-4c09-8658-a9bad97e62da"
      },
      "execution_count": 34,
      "outputs": [
        {
          "output_type": "stream",
          "name": "stdout",
          "text": [
            "yes\n"
          ]
        }
      ]
    },
    {
      "cell_type": "code",
      "source": [
        "#update\n",
        "t7[0]=100"
      ],
      "metadata": {
        "colab": {
          "base_uri": "https://localhost:8080/",
          "height": 158
        },
        "id": "k5HqN6wsGseI",
        "outputId": "3ee942d5-8868-43e1-b78a-570760f6642d"
      },
      "execution_count": 35,
      "outputs": [
        {
          "output_type": "error",
          "ename": "TypeError",
          "evalue": "'tuple' object does not support item assignment",
          "traceback": [
            "\u001b[0;31m---------------------------------------------------------------------------\u001b[0m",
            "\u001b[0;31mTypeError\u001b[0m                                 Traceback (most recent call last)",
            "\u001b[0;32m<ipython-input-35-a26de1ec1f6f>\u001b[0m in \u001b[0;36m<cell line: 2>\u001b[0;34m()\u001b[0m\n\u001b[1;32m      1\u001b[0m \u001b[0;31m#update\u001b[0m\u001b[0;34m\u001b[0m\u001b[0;34m\u001b[0m\u001b[0m\n\u001b[0;32m----> 2\u001b[0;31m \u001b[0mt7\u001b[0m\u001b[0;34m[\u001b[0m\u001b[0;36m0\u001b[0m\u001b[0;34m]\u001b[0m\u001b[0;34m=\u001b[0m\u001b[0;36m100\u001b[0m\u001b[0;34m\u001b[0m\u001b[0;34m\u001b[0m\u001b[0m\n\u001b[0m",
            "\u001b[0;31mTypeError\u001b[0m: 'tuple' object does not support item assignment"
          ]
        }
      ]
    },
    {
      "cell_type": "code",
      "source": [
        "t7 = (22,33,44,55,66,77)\n",
        "t8 = list(t7)\n",
        "print(t8)\n",
        "print(type(t8))\n",
        "t8[0]=100\n",
        "print(t8)\n",
        "t7 = tuple(t8)\n",
        "print(t7)"
      ],
      "metadata": {
        "colab": {
          "base_uri": "https://localhost:8080/"
        },
        "id": "r7bAcS9xHHqo",
        "outputId": "91e1cf03-0dae-4943-98ac-47f348ff41fa"
      },
      "execution_count": 37,
      "outputs": [
        {
          "output_type": "stream",
          "name": "stdout",
          "text": [
            "[22, 33, 44, 55, 66, 77]\n",
            "<class 'list'>\n",
            "[100, 33, 44, 55, 66, 77]\n",
            "(100, 33, 44, 55, 66, 77)\n"
          ]
        }
      ]
    },
    {
      "cell_type": "code",
      "source": [
        "del t7"
      ],
      "metadata": {
        "id": "m6W7J_RwHzSD"
      },
      "execution_count": 39,
      "outputs": []
    },
    {
      "cell_type": "code",
      "source": [
        "#iterate\n",
        "t7 = (22,33,44,55,66,77)\n",
        "\n",
        "for i in (10,):\n",
        "  print(i)"
      ],
      "metadata": {
        "colab": {
          "base_uri": "https://localhost:8080/"
        },
        "id": "mhzDL2fGIBWm",
        "outputId": "ced564f7-0410-4490-c0df-eb8cadbfa02d"
      },
      "execution_count": 44,
      "outputs": [
        {
          "output_type": "stream",
          "name": "stdout",
          "text": [
            "10\n"
          ]
        }
      ]
    },
    {
      "cell_type": "code",
      "source": [
        "s = [[\"akash\",25 ,\"BE\"],[\"John\",22,'BSC'],[\"smith\",21,'MBBS']]\n",
        "print(s[1])"
      ],
      "metadata": {
        "colab": {
          "base_uri": "https://localhost:8080/"
        },
        "id": "b5gJB9zYKioG",
        "outputId": "40cb42d4-b0eb-49ee-bc58-87e37b47170d"
      },
      "execution_count": 47,
      "outputs": [
        {
          "output_type": "stream",
          "name": "stdout",
          "text": [
            "['John', 22, 'BSC']\n"
          ]
        }
      ]
    },
    {
      "cell_type": "code",
      "source": [
        "d1 = {\"name\":\"akash\",\"age\":25,\"course\":\"BE\"}\n",
        "print(d1)\n",
        "print(type(d1))"
      ],
      "metadata": {
        "colab": {
          "base_uri": "https://localhost:8080/"
        },
        "id": "nO0xPoTnLG-b",
        "outputId": "4f0736b0-4994-41c6-f818-041e64639224"
      },
      "execution_count": 49,
      "outputs": [
        {
          "output_type": "stream",
          "name": "stdout",
          "text": [
            "{'name': 'akash', 'age': 25, 'course': 'BE'}\n",
            "<class 'dict'>\n"
          ]
        }
      ]
    },
    {
      "cell_type": "code",
      "source": [
        "print(d1[\"name\"])"
      ],
      "metadata": {
        "colab": {
          "base_uri": "https://localhost:8080/"
        },
        "id": "IYTRMXqCLSID",
        "outputId": "ede1759d-304f-4863-d5c7-909552275fd9"
      },
      "execution_count": 50,
      "outputs": [
        {
          "output_type": "stream",
          "name": "stdout",
          "text": [
            "akash\n"
          ]
        }
      ]
    },
    {
      "cell_type": "code",
      "source": [
        "d2 = {10:111111,20:222222,30:333333}\n",
        "print(d2[10])"
      ],
      "metadata": {
        "colab": {
          "base_uri": "https://localhost:8080/"
        },
        "id": "PZUw7gaFLgCh",
        "outputId": "8a59468a-fcd2-412f-bee0-15c1d144ab6c"
      },
      "execution_count": 52,
      "outputs": [
        {
          "output_type": "stream",
          "name": "stdout",
          "text": [
            "111111\n"
          ]
        }
      ]
    },
    {
      "cell_type": "code",
      "source": [
        "d3 ={\"usn1\" : [\"akash\",25 ,\"BE\"] , \"usn2\" :[\"John\",22,'BSC'] , \"usn3\": [\"smith\",21,'MBBS']  }\n",
        "\n",
        "print(len(d3))"
      ],
      "metadata": {
        "colab": {
          "base_uri": "https://localhost:8080/"
        },
        "id": "a1WU-qM5LuH7",
        "outputId": "0db8ce0c-9237-4f8b-d897-f27696d68012"
      },
      "execution_count": 56,
      "outputs": [
        {
          "output_type": "stream",
          "name": "stdout",
          "text": [
            "3\n"
          ]
        }
      ]
    },
    {
      "cell_type": "code",
      "source": [
        "d4 = dict(name = \"John\", age = 36, country = \"Norway\")\n",
        "print(d4)"
      ],
      "metadata": {
        "colab": {
          "base_uri": "https://localhost:8080/"
        },
        "id": "9AvCJCd0MoPO",
        "outputId": "65933535-1040-4c85-8441-20e015ee2003"
      },
      "execution_count": 57,
      "outputs": [
        {
          "output_type": "stream",
          "name": "stdout",
          "text": [
            "{'name': 'John', 'age': 36, 'country': 'Norway'}\n"
          ]
        }
      ]
    },
    {
      "cell_type": "code",
      "source": [
        "x = d4.keys()\n",
        "print(x)"
      ],
      "metadata": {
        "colab": {
          "base_uri": "https://localhost:8080/"
        },
        "id": "cziLwSEbM4De",
        "outputId": "c130b610-cc9d-4133-b14b-24aa362a14fd"
      },
      "execution_count": 58,
      "outputs": [
        {
          "output_type": "stream",
          "name": "stdout",
          "text": [
            "dict_keys(['name', 'age', 'country'])\n"
          ]
        }
      ]
    },
    {
      "cell_type": "code",
      "source": [
        "y = d4.values()\n",
        "print(y)"
      ],
      "metadata": {
        "colab": {
          "base_uri": "https://localhost:8080/"
        },
        "id": "4nBW2Qx-NI1i",
        "outputId": "1f88d1ec-4128-4623-a433-6cbeeb9a56b8"
      },
      "execution_count": 59,
      "outputs": [
        {
          "output_type": "stream",
          "name": "stdout",
          "text": [
            "dict_values(['John', 36, 'Norway'])\n"
          ]
        }
      ]
    },
    {
      "cell_type": "code",
      "source": [
        "z = d4.items()\n",
        "print(z)"
      ],
      "metadata": {
        "colab": {
          "base_uri": "https://localhost:8080/"
        },
        "id": "4YJNkWAeNUyA",
        "outputId": "5500ca16-343e-4e1b-e4ba-8868102cf7a4"
      },
      "execution_count": 60,
      "outputs": [
        {
          "output_type": "stream",
          "name": "stdout",
          "text": [
            "dict_items([('name', 'John'), ('age', 36), ('country', 'Norway')])\n"
          ]
        }
      ]
    },
    {
      "cell_type": "code",
      "source": [
        "d4[\"name\"] = \"akash\"\n",
        "print(d4)"
      ],
      "metadata": {
        "colab": {
          "base_uri": "https://localhost:8080/"
        },
        "id": "SYd6fx4ENivO",
        "outputId": "6335ec1b-f673-482f-cbcf-4081c32fefc2"
      },
      "execution_count": 61,
      "outputs": [
        {
          "output_type": "stream",
          "name": "stdout",
          "text": [
            "{'name': 'akash', 'age': 36, 'country': 'Norway'}\n"
          ]
        }
      ]
    },
    {
      "cell_type": "code",
      "source": [
        "d4.update({\"name\":\"clara\"})\n",
        "print(d4)"
      ],
      "metadata": {
        "colab": {
          "base_uri": "https://localhost:8080/"
        },
        "id": "urmenmI-NrNt",
        "outputId": "b1cafc35-78cc-421c-c3f9-c3e94effb9c7"
      },
      "execution_count": 62,
      "outputs": [
        {
          "output_type": "stream",
          "name": "stdout",
          "text": [
            "{'name': 'clara', 'age': 36, 'country': 'Norway'}\n"
          ]
        }
      ]
    },
    {
      "cell_type": "code",
      "source": [
        "d4[\"qual\"]= \"BE\"\n",
        "print(d4)"
      ],
      "metadata": {
        "colab": {
          "base_uri": "https://localhost:8080/"
        },
        "id": "HKM2kBDFN57P",
        "outputId": "5a9de08e-1bb0-40a1-91ea-7363afdfb70e"
      },
      "execution_count": 63,
      "outputs": [
        {
          "output_type": "stream",
          "name": "stdout",
          "text": [
            "{'name': 'clara', 'age': 36, 'country': 'Norway', 'qual': 'BE'}\n"
          ]
        }
      ]
    },
    {
      "cell_type": "code",
      "source": [
        "d4.pop(\"qual\")\n",
        "print(d4)"
      ],
      "metadata": {
        "colab": {
          "base_uri": "https://localhost:8080/"
        },
        "id": "INXwwb0yOItq",
        "outputId": "970261b3-f6c9-44f6-defe-258dc06db082"
      },
      "execution_count": 64,
      "outputs": [
        {
          "output_type": "stream",
          "name": "stdout",
          "text": [
            "{'name': 'clara', 'age': 36, 'country': 'Norway'}\n"
          ]
        }
      ]
    },
    {
      "cell_type": "code",
      "source": [
        "d4.popitem()\n",
        "print(d4)"
      ],
      "metadata": {
        "colab": {
          "base_uri": "https://localhost:8080/"
        },
        "id": "ApM56OvOOQSr",
        "outputId": "a2c55f6b-ee11-4ff6-ff0d-c94a3a54fd72"
      },
      "execution_count": 65,
      "outputs": [
        {
          "output_type": "stream",
          "name": "stdout",
          "text": [
            "{'name': 'clara', 'age': 36}\n"
          ]
        }
      ]
    },
    {
      "cell_type": "code",
      "source": [
        "del d4['name']\n",
        "print(d4)"
      ],
      "metadata": {
        "colab": {
          "base_uri": "https://localhost:8080/"
        },
        "id": "2YGogLB6OcDs",
        "outputId": "3337e84f-88a1-48d1-888f-5b6b083ba1e5"
      },
      "execution_count": 66,
      "outputs": [
        {
          "output_type": "stream",
          "name": "stdout",
          "text": [
            "{'age': 36}\n"
          ]
        }
      ]
    },
    {
      "cell_type": "code",
      "source": [
        "del d4"
      ],
      "metadata": {
        "id": "5PL_zoMxOndb"
      },
      "execution_count": 67,
      "outputs": []
    },
    {
      "cell_type": "code",
      "source": [
        "d4 = dict(name = \"John\", age = 36, country = \"Norway\")\n",
        "\n",
        "for i in d4:\n",
        "  print(d4[i])"
      ],
      "metadata": {
        "colab": {
          "base_uri": "https://localhost:8080/"
        },
        "id": "W62AA1RpOxns",
        "outputId": "dd96b072-8ca5-479d-ea8c-818345e4dc87"
      },
      "execution_count": 68,
      "outputs": [
        {
          "output_type": "stream",
          "name": "stdout",
          "text": [
            "John\n",
            "36\n",
            "Norway\n"
          ]
        }
      ]
    },
    {
      "cell_type": "code",
      "source": [
        "#NUMPY\n",
        "import numpy as np\n",
        "\n",
        "arr = np.array([1,2,3,4,5])\n",
        "print(arr)\n",
        "print(type(arr))\n",
        "print(arr.ndim)\n",
        "print(arr.size)\n",
        "print(arr.shape)\n",
        "print(arr.dtype)"
      ],
      "metadata": {
        "colab": {
          "base_uri": "https://localhost:8080/"
        },
        "id": "D3xOOxGfQ8c9",
        "outputId": "75feca24-0966-4433-a8ab-f40434e1ab6a"
      },
      "execution_count": 75,
      "outputs": [
        {
          "output_type": "stream",
          "name": "stdout",
          "text": [
            "[1 2 3 4 5]\n",
            "<class 'numpy.ndarray'>\n",
            "1\n",
            "5\n",
            "(5,)\n",
            "int64\n"
          ]
        }
      ]
    },
    {
      "cell_type": "code",
      "source": [
        "arr2 = np.array([[1,2,3],[4,5,6]])\n",
        "print(arr2)\n",
        "print(type(arr2))\n",
        "print(arr2.ndim)\n",
        "print(arr2.size)\n",
        "print(arr2.shape)\n",
        "print(arr2.dtype)"
      ],
      "metadata": {
        "colab": {
          "base_uri": "https://localhost:8080/"
        },
        "id": "jXruluqKS0m9",
        "outputId": "d366ffe4-24df-4e45-93c6-22a98a92bade"
      },
      "execution_count": 77,
      "outputs": [
        {
          "output_type": "stream",
          "name": "stdout",
          "text": [
            "[[1 2 3]\n",
            " [4 5 6]]\n",
            "<class 'numpy.ndarray'>\n",
            "2\n",
            "6\n",
            "(2, 3)\n",
            "int64\n"
          ]
        }
      ]
    },
    {
      "cell_type": "code",
      "source": [
        "arr2 = np.array([[[1,2,3],[4,5,6]] , [[11,22,33],[44,55,66]]])\n",
        "print(arr2)\n",
        "print(type(arr2))\n",
        "print(arr2.ndim)\n",
        "print(arr2.size)\n",
        "print(arr2.shape)\n",
        "print(arr2.dtype)"
      ],
      "metadata": {
        "colab": {
          "base_uri": "https://localhost:8080/"
        },
        "id": "3TfLIjvES_xB",
        "outputId": "6d7ac8e0-21cb-4517-e914-cb9ed0876802"
      },
      "execution_count": 78,
      "outputs": [
        {
          "output_type": "stream",
          "name": "stdout",
          "text": [
            "[[[ 1  2  3]\n",
            "  [ 4  5  6]]\n",
            "\n",
            " [[11 22 33]\n",
            "  [44 55 66]]]\n",
            "<class 'numpy.ndarray'>\n",
            "3\n",
            "12\n",
            "(2, 2, 3)\n",
            "int64\n"
          ]
        }
      ]
    },
    {
      "cell_type": "code",
      "source": [],
      "metadata": {
        "id": "uhXFeo_6TMie"
      },
      "execution_count": null,
      "outputs": []
    }
  ]
}